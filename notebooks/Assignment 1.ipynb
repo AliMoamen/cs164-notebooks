{
 "cells": [
  {
   "cell_type": "code",
   "execution_count": 6,
   "id": "876574fc-d58a-46bd-8d31-6416badc748c",
   "metadata": {},
   "outputs": [
    {
     "data": {
      "text/plain": [
       "[13/9]\n",
       "[17/9]"
      ]
     },
     "execution_count": 6,
     "metadata": {},
     "output_type": "execute_result"
    }
   ],
   "source": [
    "x_2 = matrix([[5/2, 1], [1, 4]]).inverse() * matrix([[11/2], [9]])\n",
    "x_2"
   ]
  },
  {
   "cell_type": "code",
   "execution_count": 4,
   "id": "9adab1b3-b445-4499-b051-09c7e0fec745",
   "metadata": {},
   "outputs": [
    {
     "data": {
      "text/plain": [
       "(7/9, 13/9, 17/9)"
      ]
     },
     "execution_count": 4,
     "metadata": {},
     "output_type": "execute_result"
    }
   ],
   "source": [
    "A = matrix([[2,1,0],[1,3,1],[0,1,4]])\n",
    "b = vector([3,7,9])\n",
    "x = A.inverse() * b\n",
    "x"
   ]
  }
 ],
 "metadata": {
  "kernelspec": {
   "display_name": "SageMath 10.4",
   "language": "sage",
   "name": "sagemath"
  },
  "language_info": {
   "codemirror_mode": {
    "name": "ipython",
    "version": 3
   },
   "file_extension": ".py",
   "mimetype": "text/x-python",
   "name": "python",
   "nbconvert_exporter": "python",
   "pygments_lexer": "ipython3",
   "version": "3.12.4"
  }
 },
 "nbformat": 4,
 "nbformat_minor": 5
}
