{
 "cells": [
  {
   "cell_type": "markdown",
   "id": "ea7f57f5-22a3-4aaa-99ef-1e44f290bad6",
   "metadata": {
    "jp-MarkdownHeadingCollapsed": true
   },
   "source": [
    "# Part I"
   ]
  },
  {
   "cell_type": "markdown",
   "id": "12bc6415-6e35-4376-b094-10a2821a7084",
   "metadata": {},
   "source": [
    "## Question 4"
   ]
  },
  {
   "cell_type": "code",
   "execution_count": 3,
   "id": "f3ce5d72-6f60-491c-8a96-139f90a38c9c",
   "metadata": {},
   "outputs": [
    {
     "data": {
      "text/plain": [
       "[0, -1.464101615137755?, 5.464101615137755?]"
      ]
     },
     "execution_count": 3,
     "metadata": {},
     "output_type": "execute_result"
    }
   ],
   "source": [
    "A = matrix([[2,2,2],[2,2,2],[2,2,0]])\n",
    "A.eigenvalues()"
   ]
  },
  {
   "cell_type": "code",
   "execution_count": 4,
   "id": "9adab1b3-b445-4499-b051-09c7e0fec745",
   "metadata": {},
   "outputs": [
    {
     "data": {
      "text/plain": [
       "(7/9, 13/9, 17/9)"
      ]
     },
     "execution_count": 4,
     "metadata": {},
     "output_type": "execute_result"
    }
   ],
   "source": [
    "A = matrix([[2,1,0],[1,3,1],[0,1,4]])\n",
    "b = vector([3,7,9])\n",
    "x = A.inverse() * b\n",
    "x"
   ]
  },
  {
   "cell_type": "markdown",
   "id": "96ae175a-4b34-4246-a4f0-ce50b517fc8d",
   "metadata": {},
   "source": [
    "# Part II"
   ]
  },
  {
   "cell_type": "markdown",
   "id": "306c86f0-000c-4c2a-ad2f-1d7e4fecf23f",
   "metadata": {
    "jp-MarkdownHeadingCollapsed": true
   },
   "source": [
    "## Question 1"
   ]
  },
  {
   "cell_type": "code",
   "execution_count": 12,
   "id": "e9090cca-35d2-49d6-9933-2ed203092d4f",
   "metadata": {},
   "outputs": [
    {
     "name": "stdout",
     "output_type": "stream",
     "text": [
      "AA\n",
      "[ 33  38  45]\n",
      "[ 70  81  96]\n",
      "[109 126 150]\n",
      "BC\n",
      "[0 1 2]\n",
      "[0 0 0]\n",
      "[0 1 2]\n",
      "AB\n",
      "[ 5]\n",
      "[10]\n",
      "[16]\n",
      "BD\n",
      "[0]\n",
      "[0]\n",
      "[0]\n",
      "CA\n",
      "[18 21 24]\n",
      "DC\n",
      "[0 0 0]\n",
      "CB\n",
      "[2]\n",
      "DD\n",
      "[0]\n",
      "M^2\n",
      "[ 33  39  47   5]\n",
      "[ 70  81  96  10]\n",
      "[109 127 152  16]\n",
      "[ 18  21  24   2]\n"
     ]
    }
   ],
   "source": [
    "A = matrix([[2,2,3],[4,5,6],[7,8,9]])\n",
    "B = matrix([[1],[0],[1]])\n",
    "C = matrix([0,1,2])\n",
    "D = matrix([[0]])\n",
    "M = matrix([[2,2,3,1],[4,5,6,0],[7,8,9,1],[0,1,2,0]])\n",
    "\n",
    "print('AA')\n",
    "print(A * A)\n",
    "print('BC')\n",
    "print(B * C)\n",
    "print('AB')\n",
    "print(A * B)\n",
    "print('BD')\n",
    "print(B * D)\n",
    "print('CA')\n",
    "print(C * A)\n",
    "print('DC')\n",
    "print(D * C)\n",
    "print('CB')\n",
    "print(C * B)\n",
    "print('DD')\n",
    "print(D * D)\n",
    "print('M^2')\n",
    "print(M ^ 2)"
   ]
  },
  {
   "cell_type": "markdown",
   "id": "2ee5c5ee-fa78-4394-aa7a-b933ed43cf37",
   "metadata": {},
   "source": [
    "## Question 2"
   ]
  },
  {
   "cell_type": "markdown",
   "id": "72be82e0-baa3-4857-8e98-55584fea6869",
   "metadata": {},
   "source": [
    "### (c)"
   ]
  },
  {
   "cell_type": "code",
   "execution_count": 15,
   "id": "876574fc-d58a-46bd-8d31-6416badc748c",
   "metadata": {},
   "outputs": [
    {
     "name": "stdout",
     "output_type": "stream",
     "text": [
      "x_2\n",
      "[13/9]\n",
      "[17/9]\n",
      "x\n",
      "(7/9, 13/9, 17/9)\n"
     ]
    }
   ],
   "source": [
    "A = matrix([[2,1,0],[1,3,1],[0,1,4]])\n",
    "b = vector([3,7,9])\n",
    "x_2 = matrix([[5/2, 1], [1, 4]]).inverse() * matrix([[11/2], [9]])\n",
    "x = A.inverse() * b\n",
    "\n",
    "print('x_2')\n",
    "print(x_2)\n",
    "print('x')\n",
    "print(x)"
   ]
  },
  {
   "cell_type": "code",
   "execution_count": null,
   "id": "61fbf8eb-79fc-4679-8356-b97e8ed55914",
   "metadata": {},
   "outputs": [],
   "source": []
  }
 ],
 "metadata": {
  "kernelspec": {
   "display_name": "SageMath 10.4",
   "language": "sage",
   "name": "sagemath"
  },
  "language_info": {
   "codemirror_mode": {
    "name": "ipython",
    "version": 3
   },
   "file_extension": ".py",
   "mimetype": "text/x-python",
   "name": "python",
   "nbconvert_exporter": "python",
   "pygments_lexer": "ipython3",
   "version": "3.12.4"
  }
 },
 "nbformat": 4,
 "nbformat_minor": 5
}
